{
 "cells": [
  {
   "cell_type": "code",
   "execution_count": 43,
   "id": "5c259545",
   "metadata": {},
   "outputs": [],
   "source": [
    "import pandas as pd"
   ]
  },
  {
   "cell_type": "code",
   "execution_count": 64,
   "id": "50109f1e",
   "metadata": {},
   "outputs": [],
   "source": [
    "df = pd.read_csv(\"spotify_millsongdata.csv\")"
   ]
  },
  {
   "cell_type": "code",
   "execution_count": 65,
   "id": "3b0d5d8d",
   "metadata": {},
   "outputs": [],
   "source": [
    "df = df.sample(10000).drop('link', axis = 1).reset_index(drop = True)"
   ]
  },
  {
   "cell_type": "code",
   "execution_count": 66,
   "id": "66bcc1b9",
   "metadata": {},
   "outputs": [
    {
     "data": {
      "text/html": [
       "<div>\n",
       "<style scoped>\n",
       "    .dataframe tbody tr th:only-of-type {\n",
       "        vertical-align: middle;\n",
       "    }\n",
       "\n",
       "    .dataframe tbody tr th {\n",
       "        vertical-align: top;\n",
       "    }\n",
       "\n",
       "    .dataframe thead th {\n",
       "        text-align: right;\n",
       "    }\n",
       "</style>\n",
       "<table border=\"1\" class=\"dataframe\">\n",
       "  <thead>\n",
       "    <tr style=\"text-align: right;\">\n",
       "      <th></th>\n",
       "      <th>artist</th>\n",
       "      <th>song</th>\n",
       "      <th>text</th>\n",
       "    </tr>\n",
       "  </thead>\n",
       "  <tbody>\n",
       "    <tr>\n",
       "      <th>0</th>\n",
       "      <td>Hank Snow</td>\n",
       "      <td>Cuba Rhumba</td>\n",
       "      <td>Now if you're gonna cruise be sure that you'll...</td>\n",
       "    </tr>\n",
       "    <tr>\n",
       "      <th>1</th>\n",
       "      <td>Natalie Cole</td>\n",
       "      <td>Lollipops And Roses</td>\n",
       "      <td>Tell her you care  \\r\\nEach time you speak  \\r...</td>\n",
       "    </tr>\n",
       "    <tr>\n",
       "      <th>2</th>\n",
       "      <td>Justin Bieber</td>\n",
       "      <td>The Christmas Song</td>\n",
       "      <td>[Justin Bieber]  \\r\\nChestnuts roasting on an ...</td>\n",
       "    </tr>\n",
       "    <tr>\n",
       "      <th>3</th>\n",
       "      <td>Neil Sedaka</td>\n",
       "      <td>Another Sleepless Night</td>\n",
       "      <td>Another sleepless night,  \\r\\nI sit alone and ...</td>\n",
       "    </tr>\n",
       "    <tr>\n",
       "      <th>4</th>\n",
       "      <td>Britney Spears</td>\n",
       "      <td>Ouch</td>\n",
       "      <td>Let's, let's play pretend  \\r\\nLike you're my ...</td>\n",
       "    </tr>\n",
       "    <tr>\n",
       "      <th>...</th>\n",
       "      <td>...</td>\n",
       "      <td>...</td>\n",
       "      <td>...</td>\n",
       "    </tr>\n",
       "    <tr>\n",
       "      <th>9995</th>\n",
       "      <td>Gloria Gaynor</td>\n",
       "      <td>I'm Still Yours</td>\n",
       "      <td>\"Been a lot of places.  \\r\\nAnd met a lot of g...</td>\n",
       "    </tr>\n",
       "    <tr>\n",
       "      <th>9996</th>\n",
       "      <td>Harry Connick, Jr.</td>\n",
       "      <td>The Jitterbug</td>\n",
       "      <td>Who's that hiding in the tree top?  \\r\\nIt's t...</td>\n",
       "    </tr>\n",
       "    <tr>\n",
       "      <th>9997</th>\n",
       "      <td>Dean Martin</td>\n",
       "      <td>La Paloma</td>\n",
       "      <td>When I left Havana nobody saw me go  \\r\\nBut m...</td>\n",
       "    </tr>\n",
       "    <tr>\n",
       "      <th>9998</th>\n",
       "      <td>Reo Speedwagon</td>\n",
       "      <td>Tough Guys</td>\n",
       "      <td>She doesn't like the tough guys.  \\r\\nThey thi...</td>\n",
       "    </tr>\n",
       "    <tr>\n",
       "      <th>9999</th>\n",
       "      <td>Van Halen</td>\n",
       "      <td>Hot For Teacher</td>\n",
       "      <td>\"Oh wow, man!\"  \\r\\n\"Wait a second man. Whadda...</td>\n",
       "    </tr>\n",
       "  </tbody>\n",
       "</table>\n",
       "<p>10000 rows × 3 columns</p>\n",
       "</div>"
      ],
      "text/plain": [
       "                  artist                     song  \\\n",
       "0              Hank Snow              Cuba Rhumba   \n",
       "1           Natalie Cole      Lollipops And Roses   \n",
       "2          Justin Bieber       The Christmas Song   \n",
       "3            Neil Sedaka  Another Sleepless Night   \n",
       "4         Britney Spears                     Ouch   \n",
       "...                  ...                      ...   \n",
       "9995       Gloria Gaynor          I'm Still Yours   \n",
       "9996  Harry Connick, Jr.            The Jitterbug   \n",
       "9997         Dean Martin                La Paloma   \n",
       "9998      Reo Speedwagon               Tough Guys   \n",
       "9999           Van Halen          Hot For Teacher   \n",
       "\n",
       "                                                   text  \n",
       "0     Now if you're gonna cruise be sure that you'll...  \n",
       "1     Tell her you care  \\r\\nEach time you speak  \\r...  \n",
       "2     [Justin Bieber]  \\r\\nChestnuts roasting on an ...  \n",
       "3     Another sleepless night,  \\r\\nI sit alone and ...  \n",
       "4     Let's, let's play pretend  \\r\\nLike you're my ...  \n",
       "...                                                 ...  \n",
       "9995  \"Been a lot of places.  \\r\\nAnd met a lot of g...  \n",
       "9996  Who's that hiding in the tree top?  \\r\\nIt's t...  \n",
       "9997  When I left Havana nobody saw me go  \\r\\nBut m...  \n",
       "9998  She doesn't like the tough guys.  \\r\\nThey thi...  \n",
       "9999  \"Oh wow, man!\"  \\r\\n\"Wait a second man. Whadda...  \n",
       "\n",
       "[10000 rows x 3 columns]"
      ]
     },
     "execution_count": 66,
     "metadata": {},
     "output_type": "execute_result"
    }
   ],
   "source": [
    "df"
   ]
  },
  {
   "cell_type": "markdown",
   "id": "26c723f5",
   "metadata": {},
   "source": [
    "text Preprocessing"
   ]
  },
  {
   "cell_type": "code",
   "execution_count": 67,
   "id": "d662d010",
   "metadata": {},
   "outputs": [],
   "source": [
    "df['text'] = df['text'].str.lower().replace(r'^\\w\\s',' ').replace(r'\\n', ' ', regex = True)\n"
   ]
  },
  {
   "cell_type": "code",
   "execution_count": 68,
   "id": "816d1c61",
   "metadata": {},
   "outputs": [],
   "source": [
    "import nltk\n",
    "from nltk.stem.porter import PorterStemmer"
   ]
  },
  {
   "cell_type": "code",
   "execution_count": 69,
   "id": "8993a58b",
   "metadata": {},
   "outputs": [],
   "source": [
    "stemmer = PorterStemmer()"
   ]
  },
  {
   "cell_type": "code",
   "execution_count": 70,
   "id": "09e62205",
   "metadata": {},
   "outputs": [],
   "source": [
    "def token(txt):\n",
    "    token = nltk.word_tokenize(txt)\n",
    "    a = [stemmer.stem(w) for w in token]\n",
    "    return \" \".join(a)"
   ]
  },
  {
   "cell_type": "code",
   "execution_count": null,
   "id": "f1d58cc7",
   "metadata": {},
   "outputs": [],
   "source": []
  },
  {
   "cell_type": "code",
   "execution_count": 71,
   "id": "67f416ff",
   "metadata": {},
   "outputs": [
    {
     "data": {
      "text/plain": [
       "0       now if you 're gon na cruis be sure that you '...\n",
       "1       tell her you care each time you speak make it ...\n",
       "2       [ justin bieber ] chestnut roast on an open fi...\n",
       "3       anoth sleepless night , i sit alon and cri , t...\n",
       "4       let 's , let 's play pretend like you 're my f...\n",
       "                              ...                        \n",
       "9995    `` been a lot of place . and met a lot of guy ...\n",
       "9996    who 's that hide in the tree top ? it 's that ...\n",
       "9997    when i left havana nobodi saw me go but my lit...\n",
       "9998    she doe n't like the tough guy . they think th...\n",
       "9999    `` oh wow , man ! '' `` wait a second man . wh...\n",
       "Name: text, Length: 10000, dtype: object"
      ]
     },
     "execution_count": 71,
     "metadata": {},
     "output_type": "execute_result"
    }
   ],
   "source": [
    "df['text'].apply(lambda x: token(x))"
   ]
  },
  {
   "cell_type": "code",
   "execution_count": 72,
   "id": "7ec45e64",
   "metadata": {},
   "outputs": [],
   "source": [
    "from sklearn.feature_extraction.text import TfidfVectorizer\n",
    "from sklearn.metrics.pairwise import cosine_similarity"
   ]
  },
  {
   "cell_type": "code",
   "execution_count": 73,
   "id": "b6a2a698",
   "metadata": {},
   "outputs": [],
   "source": [
    "tfid = TfidfVectorizer(analyzer = 'word', stop_words = 'english')"
   ]
  },
  {
   "cell_type": "code",
   "execution_count": 74,
   "id": "d7b3a0d2",
   "metadata": {},
   "outputs": [],
   "source": [
    "matrix  = tfid.fit_transform(df['text'])"
   ]
  },
  {
   "cell_type": "code",
   "execution_count": 75,
   "id": "366bd276",
   "metadata": {},
   "outputs": [],
   "source": [
    "similer = cosine_similarity(matrix)"
   ]
  },
  {
   "cell_type": "code",
   "execution_count": 76,
   "id": "b63119cb",
   "metadata": {},
   "outputs": [
    {
     "data": {
      "text/plain": [
       "0                   Cuba Rhumba\n",
       "1           Lollipops And Roses\n",
       "2            The Christmas Song\n",
       "3       Another Sleepless Night\n",
       "4                          Ouch\n",
       "                 ...           \n",
       "9995            I'm Still Yours\n",
       "9996              The Jitterbug\n",
       "9997                  La Paloma\n",
       "9998                 Tough Guys\n",
       "9999            Hot For Teacher\n",
       "Name: song, Length: 10000, dtype: object"
      ]
     },
     "execution_count": 76,
     "metadata": {},
     "output_type": "execute_result"
    }
   ],
   "source": [
    "df['song']"
   ]
  },
  {
   "cell_type": "markdown",
   "id": "3465b249",
   "metadata": {},
   "source": [
    "recommender function"
   ]
  },
  {
   "cell_type": "code",
   "execution_count": 80,
   "id": "77c0c068",
   "metadata": {},
   "outputs": [],
   "source": [
    "def recommender(song_name):\n",
    "    idx = df[df['song']==song_name].index[0]\n",
    "    distance = sorted(list(enumerate(similer[idx])), reverse=True, key = lambda x:x[1])\n",
    "    song = []\n",
    "    for s_id in distance[1:21]:\n",
    "        song.append(df.iloc[s_id[0]].song)\n",
    "    return song"
   ]
  },
  {
   "cell_type": "code",
   "execution_count": 81,
   "id": "47284501",
   "metadata": {},
   "outputs": [
    {
     "data": {
      "text/plain": [
       "['Just As I Am',\n",
       " 'Heart Full Of Soul',\n",
       " 'A Lot Of You Left In Me',\n",
       " 'If It Were You',\n",
       " 'Before I Met You',\n",
       " 'Baby',\n",
       " 'Asleep From Day',\n",
       " 'Always Alone',\n",
       " \"I Don't Wanna Talk About It\",\n",
       " 'Piece Of My Heart',\n",
       " \"Love's About To Change My Heart\",\n",
       " 'Heart With Your Name On It',\n",
       " 'Nothing Like This',\n",
       " 'You Got The Wrong Man',\n",
       " 'No One But You',\n",
       " 'Your Heart Will Lead You Home',\n",
       " 'From The Heart',\n",
       " 'Dreams Come True',\n",
       " 'I Wanna Be Free',\n",
       " 'If I Never See Your Face Again']"
      ]
     },
     "execution_count": 81,
     "metadata": {},
     "output_type": "execute_result"
    }
   ],
   "source": [
    "recommender(\"I'm Still Yours\")"
   ]
  },
  {
   "cell_type": "code",
   "execution_count": 91,
   "id": "0d12b33d",
   "metadata": {},
   "outputs": [],
   "source": [
    "import pickle"
   ]
  },
  {
   "cell_type": "code",
   "execution_count": 92,
   "id": "9723e657",
   "metadata": {},
   "outputs": [],
   "source": [
    "pickle.dump(similer, open(\"similarity.pkl\", \"wb\"))"
   ]
  },
  {
   "cell_type": "code",
   "execution_count": 93,
   "id": "80f117fd",
   "metadata": {},
   "outputs": [],
   "source": [
    "pickle.dump(df, open(\"df.pkl\", \"wb\"))"
   ]
  },
  {
   "cell_type": "code",
   "execution_count": null,
   "id": "37d6deaa",
   "metadata": {},
   "outputs": [],
   "source": []
  },
  {
   "cell_type": "code",
   "execution_count": null,
   "id": "17d8b77a",
   "metadata": {},
   "outputs": [],
   "source": []
  },
  {
   "cell_type": "code",
   "execution_count": null,
   "id": "167ab4ec",
   "metadata": {},
   "outputs": [],
   "source": []
  },
  {
   "cell_type": "code",
   "execution_count": null,
   "id": "ed421d43",
   "metadata": {},
   "outputs": [],
   "source": []
  }
 ],
 "metadata": {
  "kernelspec": {
   "display_name": "Python 3 (ipykernel)",
   "language": "python",
   "name": "python3"
  },
  "language_info": {
   "codemirror_mode": {
    "name": "ipython",
    "version": 3
   },
   "file_extension": ".py",
   "mimetype": "text/x-python",
   "name": "python",
   "nbconvert_exporter": "python",
   "pygments_lexer": "ipython3",
   "version": "3.11.5"
  }
 },
 "nbformat": 4,
 "nbformat_minor": 5
}
